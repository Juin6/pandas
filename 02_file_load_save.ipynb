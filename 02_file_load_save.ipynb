{
 "cells": [
  {
   "cell_type": "code",
   "execution_count": 1,
   "id": "46482659-0ee8-4869-a7f7-1eb1c825cc55",
   "metadata": {},
   "outputs": [],
   "source": [
    "import numpy as np\n",
    "import pandas as pd"
   ]
  },
  {
   "cell_type": "markdown",
   "id": "5b6ab81e-29c3-47e4-97d1-24e29161967b",
   "metadata": {},
   "source": [
    "## 엑셀 - load"
   ]
  },
  {
   "cell_type": "code",
   "execution_count": 6,
   "id": "d6749774-8059-482d-b3f6-08dcf7776677",
   "metadata": {},
   "outputs": [],
   "source": [
    "excel = pd.read_excel(\n",
    "    'data/DMF1.xlsx',\n",
    "    sheet_name='info',\n",
    "    engine='openpyxl')"
   ]
  },
  {
   "cell_type": "code",
   "execution_count": 8,
   "id": "caf89f70-b633-441c-807a-0613537ae7be",
   "metadata": {},
   "outputs": [
    {
     "data": {
      "text/plain": [
       "pandas.core.frame.DataFrame"
      ]
     },
     "execution_count": 8,
     "metadata": {},
     "output_type": "execute_result"
    }
   ],
   "source": [
    "type(excel)"
   ]
  },
  {
   "cell_type": "code",
   "execution_count": 10,
   "id": "1898de7c-41d3-4384-899f-60bc3639c152",
   "metadata": {},
   "outputs": [],
   "source": [
    "menu = pd.read_excel(\n",
    "    'data/DMF1.xlsx', sheet_name='menu', engine='openpyxl')"
   ]
  },
  {
   "cell_type": "code",
   "execution_count": 13,
   "id": "360a5750-0fcf-4a7c-bcb0-ed647a072f4d",
   "metadata": {},
   "outputs": [
    {
     "data": {
      "text/html": [
       "<div>\n",
       "<style scoped>\n",
       "    .dataframe tbody tr th:only-of-type {\n",
       "        vertical-align: middle;\n",
       "    }\n",
       "\n",
       "    .dataframe tbody tr th {\n",
       "        vertical-align: top;\n",
       "    }\n",
       "\n",
       "    .dataframe thead th {\n",
       "        text-align: right;\n",
       "    }\n",
       "</style>\n",
       "<table border=\"1\" class=\"dataframe\">\n",
       "  <thead>\n",
       "    <tr style=\"text-align: right;\">\n",
       "      <th></th>\n",
       "      <th>가게이름</th>\n",
       "      <th>거리(분)</th>\n",
       "      <th>메뉴</th>\n",
       "      <th>평가</th>\n",
       "    </tr>\n",
       "  </thead>\n",
       "  <tbody>\n",
       "    <tr>\n",
       "      <th>0</th>\n",
       "      <td>홍두깨칼국수</td>\n",
       "      <td>8분</td>\n",
       "      <td>칼국수, 솥밥정식, 돈까스</td>\n",
       "      <td>칼국수 집인데 솥밥정식이 더 맛있음</td>\n",
       "    </tr>\n",
       "    <tr>\n",
       "      <th>1</th>\n",
       "      <td>맘맘테이블</td>\n",
       "      <td>3분</td>\n",
       "      <td>쌀국수, 분짜</td>\n",
       "      <td>분짜 추천/ 쌀국수도 추천</td>\n",
       "    </tr>\n",
       "    <tr>\n",
       "      <th>2</th>\n",
       "      <td>소신이쏘</td>\n",
       "      <td>5분</td>\n",
       "      <td>소갈비찜</td>\n",
       "      <td>크림소갈비찜이 맛있지만 평일 점심에 가면 매운 소갈비찜을 할인된 가격에 판매</td>\n",
       "    </tr>\n",
       "    <tr>\n",
       "      <th>3</th>\n",
       "      <td>카라멘야</td>\n",
       "      <td>7분</td>\n",
       "      <td>카라멘, 본라멘, 마제소바</td>\n",
       "      <td>맵기 단계 설정 가능, 카라멘 추천</td>\n",
       "    </tr>\n",
       "    <tr>\n",
       "      <th>4</th>\n",
       "      <td>고삼이</td>\n",
       "      <td>7분</td>\n",
       "      <td>고등어구이, 삼치구이, 오징어볶음</td>\n",
       "      <td>고등어구이 추천</td>\n",
       "    </tr>\n",
       "    <tr>\n",
       "      <th>5</th>\n",
       "      <td>고래파스타</td>\n",
       "      <td>5분</td>\n",
       "      <td>새우루꼴라파스타, 봉골레파스타, 트러플버섯크림 파스타</td>\n",
       "      <td>면삶기가 좋음</td>\n",
       "    </tr>\n",
       "    <tr>\n",
       "      <th>6</th>\n",
       "      <td>텐동미세기</td>\n",
       "      <td>7분</td>\n",
       "      <td>텐동</td>\n",
       "      <td>합리적인 가격</td>\n",
       "    </tr>\n",
       "    <tr>\n",
       "      <th>7</th>\n",
       "      <td>강남불백</td>\n",
       "      <td>2분</td>\n",
       "      <td>불백,  불낙, 불쭈</td>\n",
       "      <td>4.0/4.5</td>\n",
       "    </tr>\n",
       "    <tr>\n",
       "      <th>8</th>\n",
       "      <td>한창희천하일면</td>\n",
       "      <td>5분</td>\n",
       "      <td>고기국수, 얼큰고기국수, 아부라소바, 매운 아부라소바</td>\n",
       "      <td>기본 고기국수 7000원 맛 가성비 굿. 면 양 조절 가능하고 숙주, 마늘 무료로 ...</td>\n",
       "    </tr>\n",
       "  </tbody>\n",
       "</table>\n",
       "</div>"
      ],
      "text/plain": [
       "      가게이름 거리(분)                             메뉴  \\\n",
       "0   홍두깨칼국수    8분                 칼국수, 솥밥정식, 돈까스   \n",
       "1    맘맘테이블    3분                        쌀국수, 분짜   \n",
       "2     소신이쏘    5분                           소갈비찜   \n",
       "3     카라멘야    7분                카라멘, 본라멘, 마제소바    \n",
       "4      고삼이    7분             고등어구이, 삼치구이, 오징어볶음   \n",
       "5    고래파스타    5분  새우루꼴라파스타, 봉골레파스타, 트러플버섯크림 파스타   \n",
       "6    텐동미세기    7분                             텐동   \n",
       "7     강남불백   2분                     불백,  불낙, 불쭈   \n",
       "8  한창희천하일면    5분  고기국수, 얼큰고기국수, 아부라소바, 매운 아부라소바   \n",
       "\n",
       "                                                  평가  \n",
       "0                                칼국수 집인데 솥밥정식이 더 맛있음  \n",
       "1                                     분짜 추천/ 쌀국수도 추천  \n",
       "2         크림소갈비찜이 맛있지만 평일 점심에 가면 매운 소갈비찜을 할인된 가격에 판매  \n",
       "3                                맵기 단계 설정 가능, 카라멘 추천  \n",
       "4                                           고등어구이 추천  \n",
       "5                                           면삶기가 좋음   \n",
       "6                                            합리적인 가격  \n",
       "7                                            4.0/4.5  \n",
       "8  기본 고기국수 7000원 맛 가성비 굿. 면 양 조절 가능하고 숙주, 마늘 무료로 ...  "
      ]
     },
     "execution_count": 13,
     "metadata": {},
     "output_type": "execute_result"
    }
   ],
   "source": [
    "menu"
   ]
  },
  {
   "cell_type": "code",
   "execution_count": 14,
   "id": "531ef34b-445d-476f-8848-bb5acd080719",
   "metadata": {},
   "outputs": [
    {
     "data": {
      "text/plain": [
       "{'info':      이름           전공                   email             github\n",
       " 0   오창희      소프트웨어공학      oche.edu@gmail.com            5chang2\n",
       " 1   강지승  커뮤니케이션미디어학과  kangjiseung1@gmail.com      KANGJISEUNG-1\n",
       " 2   김민수        상담심리학  rlaalstn2568@naver.com         minwater96\n",
       " 3   김수현  커뮤니케이션미디어학과     hisuhy065@gmail.com             suhihy\n",
       " 4   김아영    정보사회미디어학과     irene4618@naver.com            EHYONGI\n",
       " 5   김정아         환경공학   jjungcu0519@gmail.com         jjungcu519\n",
       " 6   김주미        조리과학과      ajsel422@gmail.com           JUMI0110\n",
       " 7   김태주  바이오산업자원공학전공       tj98724@gmail.com              Juin6\n",
       " 8   김현호       경영정보학과  poweremperor@naver.com             gusgh3\n",
       " 9   박진경          행정학    wlsrud0593@naver.com      ParkJinGyeong\n",
       " 10  성찬렬       응용통계학과      s3147078@gmail.com             cksfuf\n",
       " 11  이시운  공연예술학부 무용전공      shiun147@gmail.com            v2k2000\n",
       " 12  이현주          중국학    kangje0610@gmail.com         hyunjuleee\n",
       " 13  이후석          경제학    starpeeker@naver.com  krpythondestroyer\n",
       " 14  조은수       저널리즘전공      joeun115@naver.com          Eunsoojoe\n",
       " 15  최지원        산업보안학  lunatic-ring@naver.com            basquuu\n",
       " 16  최진욱      식량생명공학과      ekdltl30@naver.com      jinwook012345,\n",
       " 'menu':       가게이름 거리(분)                             메뉴  \\\n",
       " 0   홍두깨칼국수    8분                 칼국수, 솥밥정식, 돈까스   \n",
       " 1    맘맘테이블    3분                        쌀국수, 분짜   \n",
       " 2     소신이쏘    5분                           소갈비찜   \n",
       " 3     카라멘야    7분                카라멘, 본라멘, 마제소바    \n",
       " 4      고삼이    7분             고등어구이, 삼치구이, 오징어볶음   \n",
       " 5    고래파스타    5분  새우루꼴라파스타, 봉골레파스타, 트러플버섯크림 파스타   \n",
       " 6    텐동미세기    7분                             텐동   \n",
       " 7     강남불백   2분                     불백,  불낙, 불쭈   \n",
       " 8  한창희천하일면    5분  고기국수, 얼큰고기국수, 아부라소바, 매운 아부라소바   \n",
       " \n",
       "                                                   평가  \n",
       " 0                                칼국수 집인데 솥밥정식이 더 맛있음  \n",
       " 1                                     분짜 추천/ 쌀국수도 추천  \n",
       " 2         크림소갈비찜이 맛있지만 평일 점심에 가면 매운 소갈비찜을 할인된 가격에 판매  \n",
       " 3                                맵기 단계 설정 가능, 카라멘 추천  \n",
       " 4                                           고등어구이 추천  \n",
       " 5                                           면삶기가 좋음   \n",
       " 6                                            합리적인 가격  \n",
       " 7                                            4.0/4.5  \n",
       " 8  기본 고기국수 7000원 맛 가성비 굿. 면 양 조절 가능하고 숙주, 마늘 무료로 ...  }"
      ]
     },
     "execution_count": 14,
     "metadata": {},
     "output_type": "execute_result"
    }
   ],
   "source": [
    "excel = pd.read_excel('data/DMF1.xlsx', sheet_name=None, engine='openpyxl')\n",
    "excel"
   ]
  },
  {
   "cell_type": "code",
   "execution_count": 15,
   "id": "1a646b28-a21b-43e8-ae8b-e3acd20e4f71",
   "metadata": {},
   "outputs": [
    {
     "data": {
      "text/plain": [
       "dict_keys(['info', 'menu'])"
      ]
     },
     "execution_count": 15,
     "metadata": {},
     "output_type": "execute_result"
    }
   ],
   "source": [
    "excel.keys()"
   ]
  },
  {
   "cell_type": "code",
   "execution_count": 16,
   "id": "b410da20-dde8-4e80-aedf-ce71fce387c7",
   "metadata": {},
   "outputs": [
    {
     "data": {
      "text/html": [
       "<div>\n",
       "<style scoped>\n",
       "    .dataframe tbody tr th:only-of-type {\n",
       "        vertical-align: middle;\n",
       "    }\n",
       "\n",
       "    .dataframe tbody tr th {\n",
       "        vertical-align: top;\n",
       "    }\n",
       "\n",
       "    .dataframe thead th {\n",
       "        text-align: right;\n",
       "    }\n",
       "</style>\n",
       "<table border=\"1\" class=\"dataframe\">\n",
       "  <thead>\n",
       "    <tr style=\"text-align: right;\">\n",
       "      <th></th>\n",
       "      <th>이름</th>\n",
       "      <th>전공</th>\n",
       "      <th>email</th>\n",
       "      <th>github</th>\n",
       "    </tr>\n",
       "  </thead>\n",
       "  <tbody>\n",
       "    <tr>\n",
       "      <th>0</th>\n",
       "      <td>오창희</td>\n",
       "      <td>소프트웨어공학</td>\n",
       "      <td>oche.edu@gmail.com</td>\n",
       "      <td>5chang2</td>\n",
       "    </tr>\n",
       "    <tr>\n",
       "      <th>1</th>\n",
       "      <td>강지승</td>\n",
       "      <td>커뮤니케이션미디어학과</td>\n",
       "      <td>kangjiseung1@gmail.com</td>\n",
       "      <td>KANGJISEUNG-1</td>\n",
       "    </tr>\n",
       "    <tr>\n",
       "      <th>2</th>\n",
       "      <td>김민수</td>\n",
       "      <td>상담심리학</td>\n",
       "      <td>rlaalstn2568@naver.com</td>\n",
       "      <td>minwater96</td>\n",
       "    </tr>\n",
       "    <tr>\n",
       "      <th>3</th>\n",
       "      <td>김수현</td>\n",
       "      <td>커뮤니케이션미디어학과</td>\n",
       "      <td>hisuhy065@gmail.com</td>\n",
       "      <td>suhihy</td>\n",
       "    </tr>\n",
       "    <tr>\n",
       "      <th>4</th>\n",
       "      <td>김아영</td>\n",
       "      <td>정보사회미디어학과</td>\n",
       "      <td>irene4618@naver.com</td>\n",
       "      <td>EHYONGI</td>\n",
       "    </tr>\n",
       "  </tbody>\n",
       "</table>\n",
       "</div>"
      ],
      "text/plain": [
       "    이름           전공                   email         github\n",
       "0  오창희      소프트웨어공학      oche.edu@gmail.com        5chang2\n",
       "1  강지승  커뮤니케이션미디어학과  kangjiseung1@gmail.com  KANGJISEUNG-1\n",
       "2  김민수        상담심리학  rlaalstn2568@naver.com     minwater96\n",
       "3  김수현  커뮤니케이션미디어학과     hisuhy065@gmail.com         suhihy\n",
       "4  김아영    정보사회미디어학과     irene4618@naver.com        EHYONGI"
      ]
     },
     "execution_count": 16,
     "metadata": {},
     "output_type": "execute_result"
    }
   ],
   "source": [
    "excel['info'].head()"
   ]
  },
  {
   "cell_type": "code",
   "execution_count": 17,
   "id": "647c0b02-c89d-4846-96a0-330a5452031a",
   "metadata": {},
   "outputs": [
    {
     "data": {
      "text/html": [
       "<div>\n",
       "<style scoped>\n",
       "    .dataframe tbody tr th:only-of-type {\n",
       "        vertical-align: middle;\n",
       "    }\n",
       "\n",
       "    .dataframe tbody tr th {\n",
       "        vertical-align: top;\n",
       "    }\n",
       "\n",
       "    .dataframe thead th {\n",
       "        text-align: right;\n",
       "    }\n",
       "</style>\n",
       "<table border=\"1\" class=\"dataframe\">\n",
       "  <thead>\n",
       "    <tr style=\"text-align: right;\">\n",
       "      <th></th>\n",
       "      <th>가게이름</th>\n",
       "      <th>거리(분)</th>\n",
       "      <th>메뉴</th>\n",
       "      <th>평가</th>\n",
       "    </tr>\n",
       "  </thead>\n",
       "  <tbody>\n",
       "    <tr>\n",
       "      <th>0</th>\n",
       "      <td>홍두깨칼국수</td>\n",
       "      <td>8분</td>\n",
       "      <td>칼국수, 솥밥정식, 돈까스</td>\n",
       "      <td>칼국수 집인데 솥밥정식이 더 맛있음</td>\n",
       "    </tr>\n",
       "    <tr>\n",
       "      <th>1</th>\n",
       "      <td>맘맘테이블</td>\n",
       "      <td>3분</td>\n",
       "      <td>쌀국수, 분짜</td>\n",
       "      <td>분짜 추천/ 쌀국수도 추천</td>\n",
       "    </tr>\n",
       "    <tr>\n",
       "      <th>2</th>\n",
       "      <td>소신이쏘</td>\n",
       "      <td>5분</td>\n",
       "      <td>소갈비찜</td>\n",
       "      <td>크림소갈비찜이 맛있지만 평일 점심에 가면 매운 소갈비찜을 할인된 가격에 판매</td>\n",
       "    </tr>\n",
       "    <tr>\n",
       "      <th>3</th>\n",
       "      <td>카라멘야</td>\n",
       "      <td>7분</td>\n",
       "      <td>카라멘, 본라멘, 마제소바</td>\n",
       "      <td>맵기 단계 설정 가능, 카라멘 추천</td>\n",
       "    </tr>\n",
       "    <tr>\n",
       "      <th>4</th>\n",
       "      <td>고삼이</td>\n",
       "      <td>7분</td>\n",
       "      <td>고등어구이, 삼치구이, 오징어볶음</td>\n",
       "      <td>고등어구이 추천</td>\n",
       "    </tr>\n",
       "  </tbody>\n",
       "</table>\n",
       "</div>"
      ],
      "text/plain": [
       "     가게이름 거리(분)                  메뉴  \\\n",
       "0  홍두깨칼국수    8분      칼국수, 솥밥정식, 돈까스   \n",
       "1   맘맘테이블    3분             쌀국수, 분짜   \n",
       "2    소신이쏘    5분                소갈비찜   \n",
       "3    카라멘야    7분     카라멘, 본라멘, 마제소바    \n",
       "4     고삼이    7분  고등어구이, 삼치구이, 오징어볶음   \n",
       "\n",
       "                                           평가  \n",
       "0                         칼국수 집인데 솥밥정식이 더 맛있음  \n",
       "1                              분짜 추천/ 쌀국수도 추천  \n",
       "2  크림소갈비찜이 맛있지만 평일 점심에 가면 매운 소갈비찜을 할인된 가격에 판매  \n",
       "3                         맵기 단계 설정 가능, 카라멘 추천  \n",
       "4                                    고등어구이 추천  "
      ]
     },
     "execution_count": 17,
     "metadata": {},
     "output_type": "execute_result"
    }
   ],
   "source": [
    "excel['menu'].head()"
   ]
  },
  {
   "cell_type": "markdown",
   "id": "74aa98c8-3cd1-41bc-98a7-512493853d5d",
   "metadata": {},
   "source": [
    "### 엑셀 - save"
   ]
  },
  {
   "cell_type": "code",
   "execution_count": 20,
   "id": "116f5a27-bd57-48f4-bccc-7631d0c24abf",
   "metadata": {},
   "outputs": [],
   "source": [
    "excel = pd.read_excel('data/DMF1.xlsx', sheet_name='info', engine='openpyxl')\n",
    "student = excel[1:]"
   ]
  },
  {
   "cell_type": "code",
   "execution_count": 21,
   "id": "4941a49f-8e8b-4bed-bc12-4b6645a42d54",
   "metadata": {},
   "outputs": [
    {
     "data": {
      "text/html": [
       "<div>\n",
       "<style scoped>\n",
       "    .dataframe tbody tr th:only-of-type {\n",
       "        vertical-align: middle;\n",
       "    }\n",
       "\n",
       "    .dataframe tbody tr th {\n",
       "        vertical-align: top;\n",
       "    }\n",
       "\n",
       "    .dataframe thead th {\n",
       "        text-align: right;\n",
       "    }\n",
       "</style>\n",
       "<table border=\"1\" class=\"dataframe\">\n",
       "  <thead>\n",
       "    <tr style=\"text-align: right;\">\n",
       "      <th></th>\n",
       "      <th>이름</th>\n",
       "      <th>전공</th>\n",
       "      <th>email</th>\n",
       "      <th>github</th>\n",
       "    </tr>\n",
       "  </thead>\n",
       "  <tbody>\n",
       "    <tr>\n",
       "      <th>1</th>\n",
       "      <td>강지승</td>\n",
       "      <td>커뮤니케이션미디어학과</td>\n",
       "      <td>kangjiseung1@gmail.com</td>\n",
       "      <td>KANGJISEUNG-1</td>\n",
       "    </tr>\n",
       "    <tr>\n",
       "      <th>2</th>\n",
       "      <td>김민수</td>\n",
       "      <td>상담심리학</td>\n",
       "      <td>rlaalstn2568@naver.com</td>\n",
       "      <td>minwater96</td>\n",
       "    </tr>\n",
       "    <tr>\n",
       "      <th>3</th>\n",
       "      <td>김수현</td>\n",
       "      <td>커뮤니케이션미디어학과</td>\n",
       "      <td>hisuhy065@gmail.com</td>\n",
       "      <td>suhihy</td>\n",
       "    </tr>\n",
       "    <tr>\n",
       "      <th>4</th>\n",
       "      <td>김아영</td>\n",
       "      <td>정보사회미디어학과</td>\n",
       "      <td>irene4618@naver.com</td>\n",
       "      <td>EHYONGI</td>\n",
       "    </tr>\n",
       "    <tr>\n",
       "      <th>5</th>\n",
       "      <td>김정아</td>\n",
       "      <td>환경공학</td>\n",
       "      <td>jjungcu0519@gmail.com</td>\n",
       "      <td>jjungcu519</td>\n",
       "    </tr>\n",
       "    <tr>\n",
       "      <th>6</th>\n",
       "      <td>김주미</td>\n",
       "      <td>조리과학과</td>\n",
       "      <td>ajsel422@gmail.com</td>\n",
       "      <td>JUMI0110</td>\n",
       "    </tr>\n",
       "    <tr>\n",
       "      <th>7</th>\n",
       "      <td>김태주</td>\n",
       "      <td>바이오산업자원공학전공</td>\n",
       "      <td>tj98724@gmail.com</td>\n",
       "      <td>Juin6</td>\n",
       "    </tr>\n",
       "    <tr>\n",
       "      <th>8</th>\n",
       "      <td>김현호</td>\n",
       "      <td>경영정보학과</td>\n",
       "      <td>poweremperor@naver.com</td>\n",
       "      <td>gusgh3</td>\n",
       "    </tr>\n",
       "    <tr>\n",
       "      <th>9</th>\n",
       "      <td>박진경</td>\n",
       "      <td>행정학</td>\n",
       "      <td>wlsrud0593@naver.com</td>\n",
       "      <td>ParkJinGyeong</td>\n",
       "    </tr>\n",
       "    <tr>\n",
       "      <th>10</th>\n",
       "      <td>성찬렬</td>\n",
       "      <td>응용통계학과</td>\n",
       "      <td>s3147078@gmail.com</td>\n",
       "      <td>cksfuf</td>\n",
       "    </tr>\n",
       "    <tr>\n",
       "      <th>11</th>\n",
       "      <td>이시운</td>\n",
       "      <td>공연예술학부 무용전공</td>\n",
       "      <td>shiun147@gmail.com</td>\n",
       "      <td>v2k2000</td>\n",
       "    </tr>\n",
       "    <tr>\n",
       "      <th>12</th>\n",
       "      <td>이현주</td>\n",
       "      <td>중국학</td>\n",
       "      <td>kangje0610@gmail.com</td>\n",
       "      <td>hyunjuleee</td>\n",
       "    </tr>\n",
       "    <tr>\n",
       "      <th>13</th>\n",
       "      <td>이후석</td>\n",
       "      <td>경제학</td>\n",
       "      <td>starpeeker@naver.com</td>\n",
       "      <td>krpythondestroyer</td>\n",
       "    </tr>\n",
       "    <tr>\n",
       "      <th>14</th>\n",
       "      <td>조은수</td>\n",
       "      <td>저널리즘전공</td>\n",
       "      <td>joeun115@naver.com</td>\n",
       "      <td>Eunsoojoe</td>\n",
       "    </tr>\n",
       "    <tr>\n",
       "      <th>15</th>\n",
       "      <td>최지원</td>\n",
       "      <td>산업보안학</td>\n",
       "      <td>lunatic-ring@naver.com</td>\n",
       "      <td>basquuu</td>\n",
       "    </tr>\n",
       "    <tr>\n",
       "      <th>16</th>\n",
       "      <td>최진욱</td>\n",
       "      <td>식량생명공학과</td>\n",
       "      <td>ekdltl30@naver.com</td>\n",
       "      <td>jinwook012345</td>\n",
       "    </tr>\n",
       "  </tbody>\n",
       "</table>\n",
       "</div>"
      ],
      "text/plain": [
       "     이름           전공                   email             github\n",
       "1   강지승  커뮤니케이션미디어학과  kangjiseung1@gmail.com      KANGJISEUNG-1\n",
       "2   김민수        상담심리학  rlaalstn2568@naver.com         minwater96\n",
       "3   김수현  커뮤니케이션미디어학과     hisuhy065@gmail.com             suhihy\n",
       "4   김아영    정보사회미디어학과     irene4618@naver.com            EHYONGI\n",
       "5   김정아         환경공학   jjungcu0519@gmail.com         jjungcu519\n",
       "6   김주미        조리과학과      ajsel422@gmail.com           JUMI0110\n",
       "7   김태주  바이오산업자원공학전공       tj98724@gmail.com              Juin6\n",
       "8   김현호       경영정보학과  poweremperor@naver.com             gusgh3\n",
       "9   박진경          행정학    wlsrud0593@naver.com      ParkJinGyeong\n",
       "10  성찬렬       응용통계학과      s3147078@gmail.com             cksfuf\n",
       "11  이시운  공연예술학부 무용전공      shiun147@gmail.com            v2k2000\n",
       "12  이현주          중국학    kangje0610@gmail.com         hyunjuleee\n",
       "13  이후석          경제학    starpeeker@naver.com  krpythondestroyer\n",
       "14  조은수       저널리즘전공      joeun115@naver.com          Eunsoojoe\n",
       "15  최지원        산업보안학  lunatic-ring@naver.com            basquuu\n",
       "16  최진욱      식량생명공학과      ekdltl30@naver.com      jinwook012345"
      ]
     },
     "execution_count": 21,
     "metadata": {},
     "output_type": "execute_result"
    }
   ],
   "source": [
    "student"
   ]
  },
  {
   "cell_type": "code",
   "execution_count": 22,
   "id": "26b34838-702f-4888-b3f7-22adfcea2131",
   "metadata": {},
   "outputs": [],
   "source": [
    "student.to_excel('data/student.xlsx')"
   ]
  },
  {
   "cell_type": "code",
   "execution_count": null,
   "id": "4564df54-ce44-49fc-baf3-8ba2d7c3ebe5",
   "metadata": {},
   "outputs": [],
   "source": []
  },
  {
   "cell_type": "code",
   "execution_count": 25,
   "id": "70957f73-ece0-4a8d-822f-c8e722d3c9b2",
   "metadata": {},
   "outputs": [
    {
     "data": {
      "text/html": [
       "<div>\n",
       "<style scoped>\n",
       "    .dataframe tbody tr th:only-of-type {\n",
       "        vertical-align: middle;\n",
       "    }\n",
       "\n",
       "    .dataframe tbody tr th {\n",
       "        vertical-align: top;\n",
       "    }\n",
       "\n",
       "    .dataframe thead th {\n",
       "        text-align: right;\n",
       "    }\n",
       "</style>\n",
       "<table border=\"1\" class=\"dataframe\">\n",
       "  <thead>\n",
       "    <tr style=\"text-align: right;\">\n",
       "      <th></th>\n",
       "      <th>이름</th>\n",
       "      <th>전공</th>\n",
       "      <th>email</th>\n",
       "      <th>github</th>\n",
       "    </tr>\n",
       "  </thead>\n",
       "  <tbody>\n",
       "    <tr>\n",
       "      <th>0</th>\n",
       "      <td>오창희</td>\n",
       "      <td>소프트웨어공학</td>\n",
       "      <td>oche.edu@gmail.com</td>\n",
       "      <td>5chang2</td>\n",
       "    </tr>\n",
       "    <tr>\n",
       "      <th>1</th>\n",
       "      <td>강지승</td>\n",
       "      <td>커뮤니케이션미디어학과</td>\n",
       "      <td>kangjiseung1@gmail.com</td>\n",
       "      <td>KANGJISEUNG-1</td>\n",
       "    </tr>\n",
       "    <tr>\n",
       "      <th>2</th>\n",
       "      <td>김민수</td>\n",
       "      <td>상담심리학</td>\n",
       "      <td>rlaalstn2568@naver.com</td>\n",
       "      <td>minwater96</td>\n",
       "    </tr>\n",
       "    <tr>\n",
       "      <th>3</th>\n",
       "      <td>김수현</td>\n",
       "      <td>커뮤니케이션미디어학과</td>\n",
       "      <td>hisuhy065@gmail.com</td>\n",
       "      <td>suhihy</td>\n",
       "    </tr>\n",
       "    <tr>\n",
       "      <th>4</th>\n",
       "      <td>김아영</td>\n",
       "      <td>정보사회미디어학과</td>\n",
       "      <td>irene4618@naver.com</td>\n",
       "      <td>EHYONGI</td>\n",
       "    </tr>\n",
       "  </tbody>\n",
       "</table>\n",
       "</div>"
      ],
      "text/plain": [
       "    이름           전공                   email         github\n",
       "0  오창희      소프트웨어공학      oche.edu@gmail.com        5chang2\n",
       "1  강지승  커뮤니케이션미디어학과  kangjiseung1@gmail.com  KANGJISEUNG-1\n",
       "2  김민수        상담심리학  rlaalstn2568@naver.com     minwater96\n",
       "3  김수현  커뮤니케이션미디어학과     hisuhy065@gmail.com         suhihy\n",
       "4  김아영    정보사회미디어학과     irene4618@naver.com        EHYONGI"
      ]
     },
     "execution_count": 25,
     "metadata": {},
     "output_type": "execute_result"
    }
   ],
   "source": [
    "df = pd.read_csv('data/DMF1.csv', encoding='utf8')\n",
    "df.head()"
   ]
  },
  {
   "cell_type": "code",
   "execution_count": 26,
   "id": "93df27f6-f16f-4186-b612-b9ccbb5dc9cc",
   "metadata": {},
   "outputs": [
    {
     "data": {
      "text/plain": [
       "<pandas.io.parsers.readers.TextFileReader at 0x11a8df8f0>"
      ]
     },
     "execution_count": 26,
     "metadata": {},
     "output_type": "execute_result"
    }
   ],
   "source": [
    "df = pd.read_csv('data/DMF1.csv', chunksize=10)\n",
    "df"
   ]
  },
  {
   "cell_type": "markdown",
   "id": "5e088caf-0460-432c-8860-f92ff1753675",
   "metadata": {},
   "source": [
    "## CSV - save"
   ]
  },
  {
   "cell_type": "code",
   "execution_count": 30,
   "id": "22f4b28e-671f-450c-a6f0-84db6c3fe277",
   "metadata": {},
   "outputs": [],
   "source": [
    "df = pd.read_csv('data/DMF1.csv')\n",
    "student = df[1:]"
   ]
  },
  {
   "cell_type": "code",
   "execution_count": 33,
   "id": "f628150e-8ba8-447f-8f34-8a9625a41707",
   "metadata": {},
   "outputs": [],
   "source": [
    "student.to_csv('data/student.csv', index=False) #index=False를 하게되면 index칼럼이 하나 더 생기는 현상을 해결할 수 있다."
   ]
  },
  {
   "cell_type": "code",
   "execution_count": 34,
   "id": "ecb0b5e8-ad32-41b9-bd1a-d8b34324a365",
   "metadata": {},
   "outputs": [],
   "source": [
    "student.to_excel('data/student.xlsx')"
   ]
  },
  {
   "cell_type": "code",
   "execution_count": null,
   "id": "cff81fbb-f6d5-4544-ae98-b7343ff72cb3",
   "metadata": {},
   "outputs": [],
   "source": []
  }
 ],
 "metadata": {
  "kernelspec": {
   "display_name": "Python 3 (ipykernel)",
   "language": "python",
   "name": "python3"
  },
  "language_info": {
   "codemirror_mode": {
    "name": "ipython",
    "version": 3
   },
   "file_extension": ".py",
   "mimetype": "text/x-python",
   "name": "python",
   "nbconvert_exporter": "python",
   "pygments_lexer": "ipython3",
   "version": "3.12.4"
  }
 },
 "nbformat": 4,
 "nbformat_minor": 5
}
